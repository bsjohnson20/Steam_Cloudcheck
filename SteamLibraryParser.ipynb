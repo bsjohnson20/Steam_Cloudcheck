{
 "cells": [
  {
   "cell_type": "code",
   "execution_count": 1,
   "metadata": {},
   "outputs": [],
   "source": [
    "path = \"/home/lunachocken/.steam/debian-installation/steamapps/libraryfolders.vdf\""
   ]
  },
  {
   "cell_type": "code",
   "execution_count": 2,
   "metadata": {},
   "outputs": [],
   "source": [
    "import requests\n",
    "from requests import Response\n",
    "import json\n",
    "import pandas as pd\n",
    "import os\n",
    "import re\n",
    "import pandas as pd"
   ]
  },
  {
   "cell_type": "code",
   "execution_count": 3,
   "metadata": {},
   "outputs": [],
   "source": [
    "\n",
    "\n",
    "# GET https://api.steampowered.com/ISteamApps/GetAppList/v2/\n",
    "def fetch_app_list() -> Response:\n",
    "    url = \"https://api.steampowered.com/ISteamApps/GetAppList/v2/\"\n",
    "    response = requests.get(url)\n",
    "    print(response.status_code)\n",
    "    return response\n",
    "\n",
    "if os.path.exists('applist.json'):\n",
    "    with open('applist.json', 'r') as f:\n",
    "        response = json.load(f)\n",
    "else:\n",
    "    response = fetch_app_list()\n",
    "    with open('applist.json', 'w') as f:\n",
    "        json.dump(response.json(), f)   \n"
   ]
  },
  {
   "cell_type": "code",
   "execution_count": 4,
   "metadata": {},
   "outputs": [],
   "source": [
    "# write json to file\n",
    "\n",
    "\n",
    "    "
   ]
  },
  {
   "cell_type": "code",
   "execution_count": 5,
   "metadata": {},
   "outputs": [],
   "source": [
    "def get_game_details(app_id):\n",
    "    url = f\"https://store.steampowered.com/api/appdetails?appids={app_id}\"\n",
    "    response = requests.get(url)\n",
    "    data = response.json()\n",
    "\n",
    "    if data[str(app_id)]['success']:\n",
    "        game_data = data[str(app_id)]['data']\n",
    "        return game_data\n",
    "        \n",
    "        # # print(game_data)\n",
    "        # name = game_data['name']\n",
    "        # description = game_data['short_description']\n",
    "        \n",
    "        # cloud = game_data['']\n",
    "        \n",
    "        # if 'price_overview' in game_data:\n",
    "        #     price = game_data['price_overview']['final_formatted']\n",
    "        # else:\n",
    "        #     price = 'Free' if game_data['is_free'] else 'price not available'\n",
    "        # return {\n",
    "        #     'name': name,\n",
    "        #     'description': description,\n",
    "        #     'price': price\n",
    "        # }\n",
    "    else:\n",
    "        return 'details not found'\n",
    "\n",
    "\n",
    "def game_has_cloud(app_id):\n",
    "    js = get_game_details(app_id)\n",
    "    if js == 'details not found':\n",
    "        # print(\"details not found\")\n",
    "        return False\n",
    "    try:\n",
    "        categories = {category['id']: category['description'] for category in js['categories']}\n",
    "        categories[23]\n",
    "        return True\n",
    "\n",
    "    except KeyError:\n",
    "        # print(\"Key Error\")\n",
    "        return False"
   ]
  },
  {
   "cell_type": "code",
   "execution_count": 6,
   "metadata": {},
   "outputs": [
    {
     "name": "stdout",
     "output_type": "stream",
     "text": [
      "['440\"\\t\\t\"30301410253', '4000\"\\t\\t\"4231308880', '42910\"\\t\\t\"1804273306', '105600\"\\t\\t\"715107635', '228980\"\\t\\t\"346326452', '238370\"\\t\\t\"3515385168', '244850\"\\t\\t\"39642903247', '264710\"\\t\\t\"7060646067', '268650\"\\t\\t\"4661551670', '285920\"\\t\\t\"759164660', '286160\"\\t\\t\"3762437355', '361420\"\\t\\t\"3044500356', '427520\"\\t\\t\"2035193892', '431240\"\\t\\t\"5901017283', '526870\"\\t\\t\"27241375972', '544550\"\\t\\t\"3352808307', '548430\"\\t\\t\"3622974498', '553850\"\\t\\t\"96032784360', '585420\"\\t\\t\"6822884047', '602960\"\\t\\t\"1225468540', '647960\"\\t\\t\"321711902', '674940\"\\t\\t\"392892776', '690290\"\\t\\t\"396368443', '728880\"\\t\\t\"8707454190', '892970\"\\t\\t\"2340691335', '979120\"\\t\\t\"934513193', '1016920\"\\t\\t\"798929033', '1070560\"\\t\\t\"13004', '1127400\"\\t\\t\"104683623', '1161040\"\\t\\t\"10034804', '1236720\"\\t\\t\"720079502', '1329500\"\\t\\t\"1560050243', '1366540\"\\t\\t\"4562323525', '1391110\"\\t\\t\"649883581', '1422450\"\\t\\t\"27375076626', '1493710\"\\t\\t\"1339334355', '1628350\"\\t\\t\"778881638', '1966720\"\\t\\t\"1148646824', '2060160\"\\t\\t\"98247742', '2180100\"\\t\\t\"1339334283', '2184130\"\\t\\t\"87669387', '2211170\"\\t\\t\"629466997', '2348590\"\\t\\t\"1224816562', '2732960\"\\t\\t\"2929121901', '2767030\"\\t\\t\"67878622469', '2768430\"\\t\\t\"299337991', '2805730\"\\t\\t\"1272473288', '3490390\"\\t\\t\"342554156', '275850\"\\t\\t\"20059233026', '728880\"\\t\\t\"8506959127', '976310\"\\t\\t\"117602137749', '1623730\"\\t\\t\"23170355653']\n"
     ]
    }
   ],
   "source": [
    "# parse gameids from libraryfolders.vdf\n",
    "\n",
    "\n",
    "\n",
    "with open(path, 'r') as f:\n",
    "    data = f.read()\n",
    "    matches = re.findall(r\"[0-9]+\\\".+\\\"[0-9]+\", data)\n",
    "    print(matches)\n",
    "    \n",
    "    gameIDs= set([int(x.split('\\\"')[0]) for x in matches])\n",
    "    \n",
    "    "
   ]
  },
  {
   "cell_type": "code",
   "execution_count": 10,
   "metadata": {},
   "outputs": [
    {
     "name": "stdout",
     "output_type": "stream",
     "text": [
      "{105600, 427520, 1966720, 2060160, 2180100, 264710, 1391110, 431240, 275850, 1366540, 526870, 647960, 42910, 4000, 2732960, 238370, 544550, 892970, 2348590, 2768430, 728880, 979120, 1623730, 2767030, 976310, 440, 1628350, 2184130, 361420, 585420, 548430, 1493710, 286160, 602960, 1161040, 3490390, 1016920, 1329500, 285920, 1070560, 2211170, 2805730, 1127400, 268650, 1236720, 244850, 690290, 228980, 1422450, 553850, 674940}\n"
     ]
    }
   ],
   "source": [
    "print(gameIDs)"
   ]
  },
  {
   "cell_type": "code",
   "execution_count": 11,
   "metadata": {},
   "outputs": [
    {
     "name": "stdout",
     "output_type": "stream",
     "text": [
      "[{'appid': 1941401, 'name': ''}, {'appid': 1897482, 'name': ''}, {'appid': 2112761, 'name': ''}]\n"
     ]
    }
   ],
   "source": [
    "# print first 3 keys from json\n",
    "\n",
    "print(response['applist']['apps'][:3])"
   ]
  },
  {
   "cell_type": "code",
   "execution_count": 14,
   "metadata": {},
   "outputs": [
    {
     "name": "stdout",
     "output_type": "stream",
     "text": [
      "{431240: 'Golf With Your Friends', 427520: 'Factorio', 1422450: 'Deadlock', 1236720: 'Spirit Island', 2211170: 'Unrailed 2: Back on Track', 2184130: 'MareQuest', 286160: 'Tabletop Simulator', 268650: 'From The Depths', 2732960: 'Command & Conquer™ Generals Zero Hour', 1966720: 'Lethal Company', 892970: 'Valheim', 647960: 'Rusted Warfare - RTS', 602960: 'Barotrauma', 3490390: 'Sandustry Demo', 1623730: 'Palworld', 728880: 'Overcooked! 2', 544550: 'Stationeers', 2768430: 'ATLYSS', 2060160: 'The Farmer Was Replaced', 2767030: 'Marvel Rivals', 285920: 'TerraTech', 275850: \"No Man's Sky\", 553850: 'HELLDIVERS™ 2', 526870: 'Satisfactory', 548430: 'Deep Rock Galactic', 4000: \"Garry's Mod\", 105600: 'Terraria', 361420: 'ASTRONEER', 585420: 'Trailmakers'}\n"
     ]
    }
   ],
   "source": [
    "# Convert steam ids to game names using api results\n",
    "\n",
    "gameNames = [(x['appid'], x['name']) for x in response['applist']['apps'] if x['appid'] in gameIDs]\n",
    "# convert to dict\n",
    "games = dict(gameNames)\n",
    "\n",
    "print(games)"
   ]
  },
  {
   "cell_type": "code",
   "execution_count": 15,
   "metadata": {},
   "outputs": [
    {
     "name": "stdout",
     "output_type": "stream",
     "text": [
      "True\n"
     ]
    }
   ],
   "source": [
    "# has cloud\n",
    "print(game_has_cloud(728880))"
   ]
  },
  {
   "cell_type": "code",
   "execution_count": 16,
   "metadata": {},
   "outputs": [
    {
     "name": "stdout",
     "output_type": "stream",
     "text": [
      "False\n"
     ]
    }
   ],
   "source": [
    "# Doesn't have cloud\n",
    "print(game_has_cloud(553850))"
   ]
  },
  {
   "cell_type": "code",
   "execution_count": 17,
   "metadata": {},
   "outputs": [],
   "source": [
    "import time, sys\n",
    "def progressbar(it, prefix=\"\", size=60, out=sys.stdout): # Python3.6+\n",
    "    count = len(it)\n",
    "    start = time.time() # time estimate start\n",
    "    def show(j):\n",
    "        x = int(size*j/count)\n",
    "        # time estimate calculation and string\n",
    "        remaining = ((time.time() - start) / j) * (count - j)        \n",
    "        mins, sec = divmod(remaining, 60) # limited to minutes\n",
    "        time_str = f\"{int(mins):02}:{sec:03.1f}\"\n",
    "        print(f\"{prefix}[{u'█'*x}{('.'*(size-x))}] {j}/{count} Est wait {time_str}\", end='\\r', file=out, flush=True)\n",
    "    show(0.1) # avoid div/0 \n",
    "    for i, item in enumerate(it):\n",
    "        yield item\n",
    "        show(i+1)\n",
    "    print(\"\\n\", flush=True, file=out)"
   ]
  },
  {
   "cell_type": "code",
   "execution_count": 18,
   "metadata": {},
   "outputs": [
    {
     "name": "stdout",
     "output_type": "stream",
     "text": [
      "[████████████████████████████████████████████████████████████] 51/51 Est wait 00:0.01\n",
      "\n"
     ]
    }
   ],
   "source": [
    "# Check for steam cloud support\n",
    "\n",
    "games_results = {}\n",
    "\n",
    "for app_id in progressbar(gameIDs):\n",
    "    cloud = game_has_cloud(app_id)\n",
    "    time.sleep(0.2)\n",
    "    try:\n",
    "        if cloud:\n",
    "            games_results[app_id] = cloud\n",
    "            # print(f\"{games[app_id]}:{app_id} has cloud support\")\n",
    "        else:\n",
    "            games_results[app_id] = cloud\n",
    "            # print(f\"{games[app_id]}:{app_id} has no cloud support\")\n",
    "    except KeyError:\n",
    "        pass    \n",
    "    "
   ]
  },
  {
   "cell_type": "code",
   "execution_count": 19,
   "metadata": {},
   "outputs": [
    {
     "name": "stdout",
     "output_type": "stream",
     "text": [
      "Lethal Company:1966720 False\n",
      "The Farmer Was Replaced:2060160 False\n",
      "2180100:False\n",
      "1391110:False\n",
      "Golf With Your Friends:431240 False\n",
      "1366540:False\n",
      "42910:False\n",
      "238370:False\n",
      "2348590:False\n",
      "ATLYSS:2768430 False\n",
      "Marvel Rivals:2767030 False\n",
      "440:False\n",
      "1628350:False\n",
      "MareQuest:2184130 False\n",
      "Trailmakers:585420 False\n",
      "1493710:False\n",
      "1161040:False\n",
      "Sandustry Demo:3490390 False\n",
      "1016920:False\n",
      "1329500:False\n",
      "TerraTech:285920 False\n",
      "1070560:False\n",
      "2805730:False\n",
      "From The Depths:268650 False\n",
      "690290:False\n",
      "228980:False\n",
      "Deadlock:1422450 False\n",
      "HELLDIVERS™ 2:553850 False\n",
      "674940:False\n",
      "Terraria:105600 True\n",
      "Factorio:427520 True\n",
      "264710:True\n",
      "No Man's Sky:275850 True\n",
      "Satisfactory:526870 True\n",
      "Rusted Warfare - RTS:647960 True\n",
      "Garry's Mod:4000 True\n",
      "Command & Conquer™ Generals Zero Hour:2732960 True\n",
      "Stationeers:544550 True\n",
      "Valheim:892970 True\n",
      "Overcooked! 2:728880 True\n",
      "979120:True\n",
      "Palworld:1623730 True\n",
      "976310:True\n",
      "ASTRONEER:361420 True\n",
      "Deep Rock Galactic:548430 True\n",
      "Tabletop Simulator:286160 True\n",
      "Barotrauma:602960 True\n",
      "Unrailed 2: Back on Track:2211170 True\n",
      "1127400:True\n",
      "Spirit Island:1236720 True\n",
      "244850:True\n"
     ]
    }
   ],
   "source": [
    "games_results_l = sorted(games_results.items(), key=lambda x: x[1])\n",
    "\n",
    "import colorama\n",
    "from colorama import Fore, Back, Style\n",
    "\n",
    "for item in games_results_l:\n",
    "    try:\n",
    "        print(f\"{games[item[0]]}:{item[0]} {item[1]}\")\n",
    "    except KeyError:\n",
    "        print(f\"{item[0]}:{item[1]}\")"
   ]
  },
  {
   "cell_type": "code",
   "execution_count": null,
   "metadata": {},
   "outputs": [],
   "source": [
    "# Tests\n",
    "\n",
    "# import unittest\n",
    "\n",
    "# class TestSteamMethods(unittest.TestCase):\n",
    "#     def test_game_has_cloud(self):\n",
    "#         self.assertEqual(game_has_cloud(728880), True)\n",
    "#         self.assertEqual(game_has_cloud(553850), False)\n",
    "        \n",
    "\n",
    "# if __name__ == '__main__':\n",
    "#     TestSteamMethods().test_game_has_cloud()\n",
    "\n",
    "import pytest\n",
    "\n",
    "\n"
   ]
  }
 ],
 "metadata": {
  "kernelspec": {
   "display_name": "Python 3",
   "language": "python",
   "name": "python3"
  },
  "language_info": {
   "codemirror_mode": {
    "name": "ipython",
    "version": 3
   },
   "file_extension": ".py",
   "mimetype": "text/x-python",
   "name": "python",
   "nbconvert_exporter": "python",
   "pygments_lexer": "ipython3",
   "version": "3.12.3"
  }
 },
 "nbformat": 4,
 "nbformat_minor": 2
}
